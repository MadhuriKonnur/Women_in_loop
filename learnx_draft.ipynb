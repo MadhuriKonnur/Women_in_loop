{
  "nbformat": 4,
  "nbformat_minor": 0,
  "metadata": {
    "colab": {
      "name": "learnx_draft.ipynb",
      "provenance": [],
      "collapsed_sections": [],
      "include_colab_link": true
    },
    "kernelspec": {
      "name": "python3",
      "display_name": "Python 3"
    }
  },
  "cells": [
    {
      "cell_type": "markdown",
      "metadata": {
        "id": "view-in-github",
        "colab_type": "text"
      },
      "source": [
        "<a href=\"https://colab.research.google.com/github/MadhuriKonnur/Women_in_loop/blob/master/learnx_draft.ipynb\" target=\"_parent\"><img src=\"https://colab.research.google.com/assets/colab-badge.svg\" alt=\"Open In Colab\"/></a>"
      ]
    },
    {
      "cell_type": "markdown",
      "metadata": {
        "id": "sblB-xXY875G",
        "colab_type": "text"
      },
      "source": [
        "Ref https://medium.com/@hpriya206/sales-prediction-using-python-for-machine-learning-6a76e4d63e71\n",
        "\n",
        "https://github.com/MadhuriKonnur/internShowcase/blob/master/atharvajoshi10%40gmail.com/Project/House%20Price1.ipynb\n",
        "\n",
        "https://github.com/MadhuriKonnur/internShowcase/blob/master/garora039%40gmail.com/House%20price%20prediction%20using%20Keras.ipynb\n",
        "\n",
        "\n",
        "by Madhuri Konnur"
      ]
    },
    {
      "cell_type": "code",
      "metadata": {
        "id": "fBprt-1Fnfit",
        "colab_type": "code",
        "colab": {}
      },
      "source": [
        "# Code to read csv file into Colaboratory:\n",
        "!pip install -U -q PyDrive\n",
        "from pydrive.auth import GoogleAuth\n",
        "from pydrive.drive import GoogleDrive\n",
        "from google.colab import auth\n",
        "from oauth2client.client import GoogleCredentials\n"
      ],
      "execution_count": 0,
      "outputs": []
    },
    {
      "cell_type": "code",
      "metadata": {
        "id": "eXuWLzaJDJ--",
        "colab_type": "code",
        "colab": {}
      },
      "source": [
        "# Authenticate and create the PyDrive client.\n",
        "auth.authenticate_user()\n",
        "gauth = GoogleAuth()\n",
        "gauth.credentials = GoogleCredentials.get_application_default()\n",
        "drive = GoogleDrive(gauth)"
      ],
      "execution_count": 0,
      "outputs": []
    },
    {
      "cell_type": "code",
      "metadata": {
        "id": "wgSjQ4RwEGJg",
        "colab_type": "code",
        "colab": {}
      },
      "source": [
        "# Data  dependencies\n",
        "import numpy as np\n",
        "import seaborn as sns\n",
        "import pandas as pd\n",
        "import matplotlib.pyplot as plt\n",
        "from scipy import stats\n",
        "%matplotlib inline"
      ],
      "execution_count": 0,
      "outputs": []
    },
    {
      "cell_type": "markdown",
      "metadata": {
        "id": "AedbC801Fnv_",
        "colab_type": "text"
      },
      "source": [
        "access data from google  drive , for  example  from  drive  go to sharable  links  of  ( .csv files ) .\n",
        "Take  test  and  train  data  csv files  shareable  links.\n",
        "paste  it  and  take  out  id's \n",
        "\n",
        " train- https://drive.google.com/open?id=15gIys8iV543giOEpYYcPAuEbVF5PyCzx\n",
        " test-https://drive.google.com/open?id=1LN7D2vUNP3K1UwPCG-Nm0aVNJ3TfRUQC\n",
        " submission_"
      ]
    },
    {
      "cell_type": "code",
      "metadata": {
        "id": "0sUFZA0ipfPm",
        "colab_type": "code",
        "colab": {}
      },
      "source": [
        "# Authenticate and create the PyDrive client.\n",
        "auth.authenticate_user()\n",
        "gauth = GoogleAuth()\n",
        "gauth.credentials = GoogleCredentials.get_application_default()\n",
        "drive = GoogleDrive(gauth)"
      ],
      "execution_count": 0,
      "outputs": []
    },
    {
      "cell_type": "code",
      "metadata": {
        "id": "fvAQn6ZqGvJO",
        "colab_type": "code",
        "colab": {}
      },
      "source": [
        "#Google drive  data access\n",
        "train_downloaded=drive.CreateFile({'id':'15gIys8iV543giOEpYYcPAuEbVF5PyCzx'})\n",
        "train_downloaded.GetContentFile('train.csv')\n",
        "test_downloaded=drive.CreateFile({'id':'1LN7D2vUNP3K1UwPCG-Nm0aVNJ3TfRUQC'})\n",
        "test_downloaded.GetContentFile('test.csv')\n"
      ],
      "execution_count": 0,
      "outputs": []
    },
    {
      "cell_type": "code",
      "metadata": {
        "id": "8-iNDxoap_0d",
        "colab_type": "code",
        "colab": {}
      },
      "source": [
        "submissionL_downloaded=drive.CreateFile({'id':'1u8-PfO6VzVPVaeT-mVl1dzuqxnz-gwos'})\n",
        "submissionL_downloaded.GetContentFile('sample_submission_linear.csv')"
      ],
      "execution_count": 0,
      "outputs": []
    },
    {
      "cell_type": "code",
      "metadata": {
        "id": "n-3fmOMkIF2S",
        "colab_type": "code",
        "colab": {}
      },
      "source": [
        "train=pd.read_csv('train.csv')\n",
        "test=pd.read_csv('test.csv')"
      ],
      "execution_count": 0,
      "outputs": []
    },
    {
      "cell_type": "code",
      "metadata": {
        "id": "vjxmKWeLIW6l",
        "colab_type": "code",
        "outputId": "341391c6-deb1-4c26-9170-b0ef2dfec905",
        "colab": {
          "base_uri": "https://localhost:8080/",
          "height": 142
        }
      },
      "source": [
        "train.head(3)"
      ],
      "execution_count": 66,
      "outputs": [
        {
          "output_type": "execute_result",
          "data": {
            "text/html": [
              "<div>\n",
              "<style scoped>\n",
              "    .dataframe tbody tr th:only-of-type {\n",
              "        vertical-align: middle;\n",
              "    }\n",
              "\n",
              "    .dataframe tbody tr th {\n",
              "        vertical-align: top;\n",
              "    }\n",
              "\n",
              "    .dataframe thead th {\n",
              "        text-align: right;\n",
              "    }\n",
              "</style>\n",
              "<table border=\"1\" class=\"dataframe\">\n",
              "  <thead>\n",
              "    <tr style=\"text-align: right;\">\n",
              "      <th></th>\n",
              "      <th>ID</th>\n",
              "      <th>Day_No</th>\n",
              "      <th>Course_ID</th>\n",
              "      <th>Course_Domain</th>\n",
              "      <th>Course_Type</th>\n",
              "      <th>Short_Promotion</th>\n",
              "      <th>Public_Holiday</th>\n",
              "      <th>Long_Promotion</th>\n",
              "      <th>User_Traffic</th>\n",
              "      <th>Competition_Metric</th>\n",
              "      <th>Sales</th>\n",
              "    </tr>\n",
              "  </thead>\n",
              "  <tbody>\n",
              "    <tr>\n",
              "      <th>0</th>\n",
              "      <td>1</td>\n",
              "      <td>1</td>\n",
              "      <td>1</td>\n",
              "      <td>Development</td>\n",
              "      <td>Course</td>\n",
              "      <td>0</td>\n",
              "      <td>1</td>\n",
              "      <td>1</td>\n",
              "      <td>11004</td>\n",
              "      <td>0.007</td>\n",
              "      <td>81</td>\n",
              "    </tr>\n",
              "    <tr>\n",
              "      <th>1</th>\n",
              "      <td>2</td>\n",
              "      <td>2</td>\n",
              "      <td>1</td>\n",
              "      <td>Development</td>\n",
              "      <td>Course</td>\n",
              "      <td>0</td>\n",
              "      <td>0</td>\n",
              "      <td>1</td>\n",
              "      <td>13650</td>\n",
              "      <td>0.007</td>\n",
              "      <td>79</td>\n",
              "    </tr>\n",
              "    <tr>\n",
              "      <th>2</th>\n",
              "      <td>3</td>\n",
              "      <td>3</td>\n",
              "      <td>1</td>\n",
              "      <td>Development</td>\n",
              "      <td>Course</td>\n",
              "      <td>0</td>\n",
              "      <td>0</td>\n",
              "      <td>1</td>\n",
              "      <td>11655</td>\n",
              "      <td>0.007</td>\n",
              "      <td>75</td>\n",
              "    </tr>\n",
              "  </tbody>\n",
              "</table>\n",
              "</div>"
            ],
            "text/plain": [
              "   ID  Day_No  Course_ID  ... User_Traffic Competition_Metric  Sales\n",
              "0   1       1          1  ...        11004              0.007     81\n",
              "1   2       2          1  ...        13650              0.007     79\n",
              "2   3       3          1  ...        11655              0.007     75\n",
              "\n",
              "[3 rows x 11 columns]"
            ]
          },
          "metadata": {
            "tags": []
          },
          "execution_count": 66
        }
      ]
    },
    {
      "cell_type": "code",
      "metadata": {
        "id": "cf-QEIIgQHGj",
        "colab_type": "code",
        "colab": {
          "base_uri": "https://localhost:8080/",
          "height": 142
        },
        "outputId": "cf9e171f-5141-4d8e-8dd5-bebb07e0dc28"
      },
      "source": [
        "test.head(3)"
      ],
      "execution_count": 67,
      "outputs": [
        {
          "output_type": "execute_result",
          "data": {
            "text/html": [
              "<div>\n",
              "<style scoped>\n",
              "    .dataframe tbody tr th:only-of-type {\n",
              "        vertical-align: middle;\n",
              "    }\n",
              "\n",
              "    .dataframe tbody tr th {\n",
              "        vertical-align: top;\n",
              "    }\n",
              "\n",
              "    .dataframe thead th {\n",
              "        text-align: right;\n",
              "    }\n",
              "</style>\n",
              "<table border=\"1\" class=\"dataframe\">\n",
              "  <thead>\n",
              "    <tr style=\"text-align: right;\">\n",
              "      <th></th>\n",
              "      <th>ID</th>\n",
              "      <th>Day_No</th>\n",
              "      <th>Course_ID</th>\n",
              "      <th>Course_Domain</th>\n",
              "      <th>Course_Type</th>\n",
              "      <th>Short_Promotion</th>\n",
              "      <th>Public_Holiday</th>\n",
              "      <th>Long_Promotion</th>\n",
              "      <th>Competition_Metric</th>\n",
              "    </tr>\n",
              "  </thead>\n",
              "  <tbody>\n",
              "    <tr>\n",
              "      <th>0</th>\n",
              "      <td>883</td>\n",
              "      <td>883</td>\n",
              "      <td>1</td>\n",
              "      <td>Development</td>\n",
              "      <td>Course</td>\n",
              "      <td>1</td>\n",
              "      <td>0</td>\n",
              "      <td>1</td>\n",
              "      <td>0.007</td>\n",
              "    </tr>\n",
              "    <tr>\n",
              "      <th>1</th>\n",
              "      <td>884</td>\n",
              "      <td>884</td>\n",
              "      <td>1</td>\n",
              "      <td>Development</td>\n",
              "      <td>Course</td>\n",
              "      <td>1</td>\n",
              "      <td>0</td>\n",
              "      <td>1</td>\n",
              "      <td>0.007</td>\n",
              "    </tr>\n",
              "    <tr>\n",
              "      <th>2</th>\n",
              "      <td>885</td>\n",
              "      <td>885</td>\n",
              "      <td>1</td>\n",
              "      <td>Development</td>\n",
              "      <td>Course</td>\n",
              "      <td>1</td>\n",
              "      <td>0</td>\n",
              "      <td>1</td>\n",
              "      <td>0.007</td>\n",
              "    </tr>\n",
              "  </tbody>\n",
              "</table>\n",
              "</div>"
            ],
            "text/plain": [
              "    ID  Day_No  Course_ID  ... Public_Holiday Long_Promotion  Competition_Metric\n",
              "0  883     883          1  ...              0              1               0.007\n",
              "1  884     884          1  ...              0              1               0.007\n",
              "2  885     885          1  ...              0              1               0.007\n",
              "\n",
              "[3 rows x 9 columns]"
            ]
          },
          "metadata": {
            "tags": []
          },
          "execution_count": 67
        }
      ]
    },
    {
      "cell_type": "markdown",
      "metadata": {
        "id": "D6jIrKQrQNnN",
        "colab_type": "text"
      },
      "source": [
        "For  test  dataset  there absence  of  \"User_Traffic\""
      ]
    },
    {
      "cell_type": "code",
      "metadata": {
        "id": "E8LBiOfyVGzo",
        "colab_type": "code",
        "outputId": "3a7362a7-fe46-4e9a-e0ef-d6fcf504988b",
        "colab": {
          "base_uri": "https://localhost:8080/",
          "height": 51
        }
      },
      "source": [
        "# check out the size of the data\n",
        "print(\"Train data shape:\", train.shape)\n",
        "print(\"Test data shape:\", test.shape)"
      ],
      "execution_count": 68,
      "outputs": [
        {
          "output_type": "stream",
          "text": [
            "Train data shape: (512087, 11)\n",
            "Test data shape: (36000, 9)\n"
          ],
          "name": "stdout"
        }
      ]
    },
    {
      "cell_type": "code",
      "metadata": {
        "id": "Eh0WHacFVZ87",
        "colab_type": "code",
        "colab": {}
      },
      "source": [
        "# check the data set information using the info() command. \n",
        "#train.info()"
      ],
      "execution_count": 0,
      "outputs": []
    },
    {
      "cell_type": "code",
      "metadata": {
        "id": "MZhaops5ODgu",
        "colab_type": "code",
        "colab": {
          "base_uri": "https://localhost:8080/",
          "height": 297
        },
        "outputId": "91df0c55-45c5-456d-ddf5-67a4015d8f1d"
      },
      "source": [
        "train.describe()"
      ],
      "execution_count": 70,
      "outputs": [
        {
          "output_type": "execute_result",
          "data": {
            "text/html": [
              "<div>\n",
              "<style scoped>\n",
              "    .dataframe tbody tr th:only-of-type {\n",
              "        vertical-align: middle;\n",
              "    }\n",
              "\n",
              "    .dataframe tbody tr th {\n",
              "        vertical-align: top;\n",
              "    }\n",
              "\n",
              "    .dataframe thead th {\n",
              "        text-align: right;\n",
              "    }\n",
              "</style>\n",
              "<table border=\"1\" class=\"dataframe\">\n",
              "  <thead>\n",
              "    <tr style=\"text-align: right;\">\n",
              "      <th></th>\n",
              "      <th>ID</th>\n",
              "      <th>Day_No</th>\n",
              "      <th>Course_ID</th>\n",
              "      <th>Short_Promotion</th>\n",
              "      <th>Public_Holiday</th>\n",
              "      <th>Long_Promotion</th>\n",
              "      <th>User_Traffic</th>\n",
              "      <th>Competition_Metric</th>\n",
              "      <th>Sales</th>\n",
              "    </tr>\n",
              "  </thead>\n",
              "  <tbody>\n",
              "    <tr>\n",
              "      <th>count</th>\n",
              "      <td>512087.000000</td>\n",
              "      <td>512087.000000</td>\n",
              "      <td>512087.000000</td>\n",
              "      <td>512087.000000</td>\n",
              "      <td>512087.000000</td>\n",
              "      <td>512087.000000</td>\n",
              "      <td>512087.000000</td>\n",
              "      <td>510323.000000</td>\n",
              "      <td>512087.000000</td>\n",
              "    </tr>\n",
              "    <tr>\n",
              "      <th>mean</th>\n",
              "      <td>274007.300650</td>\n",
              "      <td>434.917869</td>\n",
              "      <td>300.388344</td>\n",
              "      <td>0.380244</td>\n",
              "      <td>0.031639</td>\n",
              "      <td>0.488968</td>\n",
              "      <td>15375.101198</td>\n",
              "      <td>0.073345</td>\n",
              "      <td>120.826924</td>\n",
              "    </tr>\n",
              "    <tr>\n",
              "      <th>std</th>\n",
              "      <td>158228.834029</td>\n",
              "      <td>256.044161</td>\n",
              "      <td>173.365787</td>\n",
              "      <td>0.485447</td>\n",
              "      <td>0.175038</td>\n",
              "      <td>0.499879</td>\n",
              "      <td>7727.231205</td>\n",
              "      <td>0.100115</td>\n",
              "      <td>54.355258</td>\n",
              "    </tr>\n",
              "    <tr>\n",
              "      <th>min</th>\n",
              "      <td>1.000000</td>\n",
              "      <td>1.000000</td>\n",
              "      <td>1.000000</td>\n",
              "      <td>0.000000</td>\n",
              "      <td>0.000000</td>\n",
              "      <td>0.000000</td>\n",
              "      <td>168.000000</td>\n",
              "      <td>0.000000</td>\n",
              "      <td>0.000000</td>\n",
              "    </tr>\n",
              "    <tr>\n",
              "      <th>25%</th>\n",
              "      <td>136962.500000</td>\n",
              "      <td>214.000000</td>\n",
              "      <td>150.000000</td>\n",
              "      <td>0.000000</td>\n",
              "      <td>0.000000</td>\n",
              "      <td>0.000000</td>\n",
              "      <td>10584.000000</td>\n",
              "      <td>0.010000</td>\n",
              "      <td>84.000000</td>\n",
              "    </tr>\n",
              "    <tr>\n",
              "      <th>50%</th>\n",
              "      <td>273984.000000</td>\n",
              "      <td>427.000000</td>\n",
              "      <td>300.000000</td>\n",
              "      <td>0.000000</td>\n",
              "      <td>0.000000</td>\n",
              "      <td>0.000000</td>\n",
              "      <td>13776.000000</td>\n",
              "      <td>0.035000</td>\n",
              "      <td>111.000000</td>\n",
              "    </tr>\n",
              "    <tr>\n",
              "      <th>75%</th>\n",
              "      <td>411065.500000</td>\n",
              "      <td>658.000000</td>\n",
              "      <td>451.000000</td>\n",
              "      <td>1.000000</td>\n",
              "      <td>0.000000</td>\n",
              "      <td>1.000000</td>\n",
              "      <td>18123.000000</td>\n",
              "      <td>0.094000</td>\n",
              "      <td>146.000000</td>\n",
              "    </tr>\n",
              "    <tr>\n",
              "      <th>max</th>\n",
              "      <td>548027.000000</td>\n",
              "      <td>882.000000</td>\n",
              "      <td>600.000000</td>\n",
              "      <td>1.000000</td>\n",
              "      <td>1.000000</td>\n",
              "      <td>1.000000</td>\n",
              "      <td>100002.000000</td>\n",
              "      <td>0.768000</td>\n",
              "      <td>682.000000</td>\n",
              "    </tr>\n",
              "  </tbody>\n",
              "</table>\n",
              "</div>"
            ],
            "text/plain": [
              "                  ID         Day_No  ...  Competition_Metric          Sales\n",
              "count  512087.000000  512087.000000  ...       510323.000000  512087.000000\n",
              "mean   274007.300650     434.917869  ...            0.073345     120.826924\n",
              "std    158228.834029     256.044161  ...            0.100115      54.355258\n",
              "min         1.000000       1.000000  ...            0.000000       0.000000\n",
              "25%    136962.500000     214.000000  ...            0.010000      84.000000\n",
              "50%    273984.000000     427.000000  ...            0.035000     111.000000\n",
              "75%    411065.500000     658.000000  ...            0.094000     146.000000\n",
              "max    548027.000000     882.000000  ...            0.768000     682.000000\n",
              "\n",
              "[8 rows x 9 columns]"
            ]
          },
          "metadata": {
            "tags": []
          },
          "execution_count": 70
        }
      ]
    },
    {
      "cell_type": "markdown",
      "metadata": {
        "id": "IdPU2OyJusnm",
        "colab_type": "text"
      },
      "source": [
        "**Target variable**\n",
        "analysis on target variable"
      ]
    },
    {
      "cell_type": "code",
      "metadata": {
        "id": "4tK1JJ71VjS6",
        "colab_type": "code",
        "outputId": "dfe50fca-a185-4fd7-b8a2-92936824c517",
        "colab": {
          "base_uri": "https://localhost:8080/",
          "height": 841
        }
      },
      "source": [
        "plt.subplots(figsize=(12,9))\n",
        "sns.distplot(train['Sales'], fit=stats.norm)\n",
        "\n",
        "# Get the fitted parameters used by the function\n",
        "\n",
        "(mu, sigma) = stats.norm.fit(train['Sales'])\n",
        "\n",
        "# plot with the distribution\n",
        "\n",
        "plt.legend(['Normal dist. ($\\mu=$ {:.2f} and $\\sigma=$ {:.2f} )'.format(mu, sigma)], loc='best')\n",
        "plt.ylabel('Frequency')\n",
        "\n",
        "#Probablity plot\n",
        "\n",
        "fig = plt.figure()\n",
        "stats.probplot(train['Sales'], plot=plt)\n",
        "plt.show()"
      ],
      "execution_count": 71,
      "outputs": [
        {
          "output_type": "display_data",
          "data": {
            "image/png": "[encoded data removed]",
            "text/plain": [
              "<Figure size 864x648 with 1 Axes>"
            ]
          },
          "metadata": {
            "tags": []
          }
        },
        {
          "output_type": "display_data",
          "data": {
            "image/png": "[encoded data removed]",
            "text/plain": [
              "<Figure size 432x288 with 1 Axes>"
            ]
          },
          "metadata": {
            "tags": []
          }
        }
      ]
    },
    {
      "cell_type": "code",
      "metadata": {
        "id": "CQqDFHHtPqxs",
        "colab_type": "code",
        "colab": {
          "base_uri": "https://localhost:8080/",
          "height": 51
        },
        "outputId": "ffd9697e-cea6-47a4-abdf-d062dd833cac"
      },
      "source": [
        "print(\"Skew is:\",train.Sales.skew())\n",
        "print(\"Kurtosis: %f\" % train.Sales.kurt())"
      ],
      "execution_count": 72,
      "outputs": [
        {
          "output_type": "stream",
          "text": [
            "Skew is: 1.374769816079381\n",
            "Kurtosis: 3.609506\n"
          ],
          "name": "stdout"
        }
      ]
    },
    {
      "cell_type": "markdown",
      "metadata": {
        "id": "bwO_MH0yviNU",
        "colab_type": "text"
      },
      "source": [
        "This target varibale is right skewed. Now, we need to tranform this variable and make it normal distribution.\n",
        "\n",
        "**Using log for target variable to make more normal distribution**"
      ]
    },
    {
      "cell_type": "code",
      "metadata": {
        "id": "sHA7ruBPWk3V",
        "colab_type": "code",
        "outputId": "dca01ce9-e3d2-429d-a89e-e72d3ef480a9",
        "colab": {
          "base_uri": "https://localhost:8080/",
          "height": 841
        }
      },
      "source": [
        "\n",
        "#we use log function which is in numpy\n",
        "train['Sales'] = np.log1p(train['Sales'])\n",
        "\n",
        "#Check again for more normal distribution\n",
        "\n",
        "plt.subplots(figsize=(12,9))\n",
        "sns.distplot(train['Sales'], fit=stats.norm)\n",
        "\n",
        "# Get the fitted parameters used by the function\n",
        "\n",
        "(mu, sigma) = stats.norm.fit(train['Sales'])\n",
        "\n",
        "# plot with the distribution\n",
        "\n",
        "plt.legend(['Normal dist. ($\\mu=$ {:.2f} and $\\sigma=$ {:.2f} )'.format(mu, sigma)], loc='best')\n",
        "plt.ylabel('Frequency')\n",
        "\n",
        "#Probablity plot\n",
        "\n",
        "fig = plt.figure()\n",
        "stats.probplot(train['Sales'], plot=plt)\n",
        "plt.show()"
      ],
      "execution_count": 73,
      "outputs": [
        {
          "output_type": "display_data",
          "data": {
            "image/png": "[encoded data removed]",
            "text/plain": [
              "<Figure size 864x648 with 1 Axes>"
            ]
          },
          "metadata": {
            "tags": []
          }
        },
        {
          "output_type": "display_data",
          "data": {
            "image/png": "[encoded data removed]",
            "text/plain": [
              "<Figure size 432x288 with 1 Axes>"
            ]
          },
          "metadata": {
            "tags": []
          }
        }
      ]
    },
    {
      "cell_type": "markdown",
      "metadata": {
        "id": "tfRhKj13Rkq9",
        "colab_type": "text"
      },
      "source": [
        "After analyzing the target variable graph we move on to seeing which of the predictor features are numeric."
      ]
    },
    {
      "cell_type": "code",
      "metadata": {
        "id": "lZ816a4yRFHS",
        "colab_type": "code",
        "colab": {
          "base_uri": "https://localhost:8080/",
          "height": 187
        },
        "outputId": "a541741e-ae39-489d-8693-c50d9b203a81"
      },
      "source": [
        "numeric_features=train.select_dtypes(include=[np.number])\n",
        "numeric_features.dtypes"
      ],
      "execution_count": 74,
      "outputs": [
        {
          "output_type": "execute_result",
          "data": {
            "text/plain": [
              "ID                      int64\n",
              "Day_No                  int64\n",
              "Course_ID               int64\n",
              "Short_Promotion         int64\n",
              "Public_Holiday          int64\n",
              "Long_Promotion          int64\n",
              "User_Traffic            int64\n",
              "Competition_Metric    float64\n",
              "Sales                 float64\n",
              "dtype: object"
            ]
          },
          "metadata": {
            "tags": []
          },
          "execution_count": 74
        }
      ]
    },
    {
      "cell_type": "markdown",
      "metadata": {
        "id": "U7mkgIV5R0bq",
        "colab_type": "text"
      },
      "source": [
        "Correlation between numerical predictors and the target variable:"
      ]
    },
    {
      "cell_type": "code",
      "metadata": {
        "id": "mzIWPWF-RGCP",
        "colab_type": "code",
        "colab": {
          "base_uri": "https://localhost:8080/",
          "height": 328
        },
        "outputId": "0a085211-c679-48d1-bd87-012ac98ff50d"
      },
      "source": [
        "corr=numeric_features.corr()\n",
        "corr"
      ],
      "execution_count": 75,
      "outputs": [
        {
          "output_type": "execute_result",
          "data": {
            "text/html": [
              "<div>\n",
              "<style scoped>\n",
              "    .dataframe tbody tr th:only-of-type {\n",
              "        vertical-align: middle;\n",
              "    }\n",
              "\n",
              "    .dataframe tbody tr th {\n",
              "        vertical-align: top;\n",
              "    }\n",
              "\n",
              "    .dataframe thead th {\n",
              "        text-align: right;\n",
              "    }\n",
              "</style>\n",
              "<table border=\"1\" class=\"dataframe\">\n",
              "  <thead>\n",
              "    <tr style=\"text-align: right;\">\n",
              "      <th></th>\n",
              "      <th>ID</th>\n",
              "      <th>Day_No</th>\n",
              "      <th>Course_ID</th>\n",
              "      <th>Short_Promotion</th>\n",
              "      <th>Public_Holiday</th>\n",
              "      <th>Long_Promotion</th>\n",
              "      <th>User_Traffic</th>\n",
              "      <th>Competition_Metric</th>\n",
              "      <th>Sales</th>\n",
              "    </tr>\n",
              "  </thead>\n",
              "  <tbody>\n",
              "    <tr>\n",
              "      <th>ID</th>\n",
              "      <td>1.000000</td>\n",
              "      <td>0.001052</td>\n",
              "      <td>0.999996</td>\n",
              "      <td>-0.000005</td>\n",
              "      <td>0.001274</td>\n",
              "      <td>-0.039570</td>\n",
              "      <td>0.033604</td>\n",
              "      <td>-0.007431</td>\n",
              "      <td>0.019975</td>\n",
              "    </tr>\n",
              "    <tr>\n",
              "      <th>Day_No</th>\n",
              "      <td>0.001052</td>\n",
              "      <td>1.000000</td>\n",
              "      <td>-0.000506</td>\n",
              "      <td>0.014645</td>\n",
              "      <td>0.019112</td>\n",
              "      <td>-0.020204</td>\n",
              "      <td>0.021511</td>\n",
              "      <td>0.003229</td>\n",
              "      <td>0.051783</td>\n",
              "    </tr>\n",
              "    <tr>\n",
              "      <th>Course_ID</th>\n",
              "      <td>0.999996</td>\n",
              "      <td>-0.000506</td>\n",
              "      <td>1.000000</td>\n",
              "      <td>-0.000027</td>\n",
              "      <td>0.001242</td>\n",
              "      <td>-0.039605</td>\n",
              "      <td>0.033520</td>\n",
              "      <td>-0.007385</td>\n",
              "      <td>0.019872</td>\n",
              "    </tr>\n",
              "    <tr>\n",
              "      <th>Short_Promotion</th>\n",
              "      <td>-0.000005</td>\n",
              "      <td>0.014645</td>\n",
              "      <td>-0.000027</td>\n",
              "      <td>1.000000</td>\n",
              "      <td>-0.018770</td>\n",
              "      <td>-0.001149</td>\n",
              "      <td>0.198785</td>\n",
              "      <td>0.000182</td>\n",
              "      <td>0.372352</td>\n",
              "    </tr>\n",
              "    <tr>\n",
              "      <th>Public_Holiday</th>\n",
              "      <td>0.001274</td>\n",
              "      <td>0.019112</td>\n",
              "      <td>0.001242</td>\n",
              "      <td>-0.018770</td>\n",
              "      <td>1.000000</td>\n",
              "      <td>0.008319</td>\n",
              "      <td>-0.108305</td>\n",
              "      <td>-0.000491</td>\n",
              "      <td>-0.233028</td>\n",
              "    </tr>\n",
              "    <tr>\n",
              "      <th>Long_Promotion</th>\n",
              "      <td>-0.039570</td>\n",
              "      <td>-0.020204</td>\n",
              "      <td>-0.039605</td>\n",
              "      <td>-0.001149</td>\n",
              "      <td>0.008319</td>\n",
              "      <td>1.000000</td>\n",
              "      <td>-0.204289</td>\n",
              "      <td>-0.119382</td>\n",
              "      <td>-0.093620</td>\n",
              "    </tr>\n",
              "    <tr>\n",
              "      <th>User_Traffic</th>\n",
              "      <td>0.033604</td>\n",
              "      <td>0.021511</td>\n",
              "      <td>0.033520</td>\n",
              "      <td>0.198785</td>\n",
              "      <td>-0.108305</td>\n",
              "      <td>-0.204289</td>\n",
              "      <td>1.000000</td>\n",
              "      <td>-0.148775</td>\n",
              "      <td>0.754633</td>\n",
              "    </tr>\n",
              "    <tr>\n",
              "      <th>Competition_Metric</th>\n",
              "      <td>-0.007431</td>\n",
              "      <td>0.003229</td>\n",
              "      <td>-0.007385</td>\n",
              "      <td>0.000182</td>\n",
              "      <td>-0.000491</td>\n",
              "      <td>-0.119382</td>\n",
              "      <td>-0.148775</td>\n",
              "      <td>1.000000</td>\n",
              "      <td>-0.017978</td>\n",
              "    </tr>\n",
              "    <tr>\n",
              "      <th>Sales</th>\n",
              "      <td>0.019975</td>\n",
              "      <td>0.051783</td>\n",
              "      <td>0.019872</td>\n",
              "      <td>0.372352</td>\n",
              "      <td>-0.233028</td>\n",
              "      <td>-0.093620</td>\n",
              "      <td>0.754633</td>\n",
              "      <td>-0.017978</td>\n",
              "      <td>1.000000</td>\n",
              "    </tr>\n",
              "  </tbody>\n",
              "</table>\n",
              "</div>"
            ],
            "text/plain": [
              "                          ID    Day_No  ...  Competition_Metric     Sales\n",
              "ID                  1.000000  0.001052  ...           -0.007431  0.019975\n",
              "Day_No              0.001052  1.000000  ...            0.003229  0.051783\n",
              "Course_ID           0.999996 -0.000506  ...           -0.007385  0.019872\n",
              "Short_Promotion    -0.000005  0.014645  ...            0.000182  0.372352\n",
              "Public_Holiday      0.001274  0.019112  ...           -0.000491 -0.233028\n",
              "Long_Promotion     -0.039570 -0.020204  ...           -0.119382 -0.093620\n",
              "User_Traffic        0.033604  0.021511  ...           -0.148775  0.754633\n",
              "Competition_Metric -0.007431  0.003229  ...            1.000000 -0.017978\n",
              "Sales               0.019975  0.051783  ...           -0.017978  1.000000\n",
              "\n",
              "[9 rows x 9 columns]"
            ]
          },
          "metadata": {
            "tags": []
          },
          "execution_count": 75
        }
      ]
    },
    {
      "cell_type": "code",
      "metadata": {
        "id": "NTAEsIhBSiOY",
        "colab_type": "code",
        "colab": {
          "base_uri": "https://localhost:8080/",
          "height": 187
        },
        "outputId": "8979a7fb-af39-470c-9ba2-fa1b4d3496af"
      },
      "source": [
        "print(corr['Sales'].sort_values(ascending=False))"
      ],
      "execution_count": 76,
      "outputs": [
        {
          "output_type": "stream",
          "text": [
            "Sales                 1.000000\n",
            "User_Traffic          0.754633\n",
            "Short_Promotion       0.372352\n",
            "Day_No                0.051783\n",
            "ID                    0.019975\n",
            "Course_ID             0.019872\n",
            "Competition_Metric   -0.017978\n",
            "Long_Promotion       -0.093620\n",
            "Public_Holiday       -0.233028\n",
            "Name: Sales, dtype: float64\n"
          ],
          "name": "stdout"
        }
      ]
    },
    {
      "cell_type": "code",
      "metadata": {
        "id": "syCgTnalSxco",
        "colab_type": "code",
        "colab": {
          "base_uri": "https://localhost:8080/",
          "height": 659
        },
        "outputId": "608f24a0-68bb-4176-c875-13eb962aba52"
      },
      "source": [
        "#Correlation matrix generation:\n",
        "\n",
        "f,ax=plt.subplots(figsize=(12,9))\n",
        "sns.heatmap(corr,vmax=.8,square= True)"
      ],
      "execution_count": 77,
      "outputs": [
        {
          "output_type": "execute_result",
          "data": {
            "text/plain": [
              "<matplotlib.axes._subplots.AxesSubplot at 0x7fccfa8fae10>"
            ]
          },
          "metadata": {
            "tags": []
          },
          "execution_count": 77
        },
        {
          "output_type": "display_data",
          "data": {
            "image/png": "[encoded data removed]",
            "text/plain": [
              "<Figure size 864x648 with 2 Axes>"
            ]
          },
          "metadata": {
            "tags": []
          }
        }
      ]
    },
    {
      "cell_type": "markdown",
      "metadata": {
        "id": "fZQ-y9FbS50c",
        "colab_type": "text"
      },
      "source": [
        "From the current numeric variables we can observe that the 'Public_Holiday' ,'Long_Promotion ' and 'Competition_Metric ' are the features with the lowest correlation with our target variable. Therefore, the less values for these features, higher the price will be. Further,the most positive correlation are that of User_Traffic and Short_Promotion"
      ]
    },
    {
      "cell_type": "code",
      "metadata": {
        "id": "ohPCahU9TbzY",
        "colab_type": "code",
        "colab": {
          "base_uri": "https://localhost:8080/",
          "height": 34
        },
        "outputId": "c71a1bfb-c080-48fd-af13-40bb50275854"
      },
      "source": [
        "train['User_Traffic'].corr(train['Long_Promotion'])"
      ],
      "execution_count": 78,
      "outputs": [
        {
          "output_type": "execute_result",
          "data": {
            "text/plain": [
              "-0.2042886951384124"
            ]
          },
          "metadata": {
            "tags": []
          },
          "execution_count": 78
        }
      ]
    },
    {
      "cell_type": "markdown",
      "metadata": {
        "id": "1No1nn4jTes2",
        "colab_type": "text"
      },
      "source": [
        "we can observe that the'Long_Promotion ' is negatively correlated with' User_Traffic'\n",
        "\n",
        "(As 'Long_Promotion' increases 'User_Traffic' decreases)\n",
        "\n",
        "We make use of data visualization library sns and get the plot of 'Long_Promotion' which consist of two features: 1 and 0"
      ]
    },
    {
      "cell_type": "code",
      "metadata": {
        "id": "arJBHAEHTpNu",
        "colab_type": "code",
        "colab": {
          "base_uri": "https://localhost:8080/",
          "height": 302
        },
        "outputId": "29e278e1-b70c-4a14-dd49-849b932d4087"
      },
      "source": [
        "sns.countplot(train.Long_Promotion)"
      ],
      "execution_count": 79,
      "outputs": [
        {
          "output_type": "execute_result",
          "data": {
            "text/plain": [
              "<matplotlib.axes._subplots.AxesSubplot at 0x7fccfda1d908>"
            ]
          },
          "metadata": {
            "tags": []
          },
          "execution_count": 79
        },
        {
          "output_type": "display_data",
          "data": {
            "image/png": "[encoded data removed]",
            "text/plain": [
              "<Figure size 432x288 with 1 Axes>"
            ]
          },
          "metadata": {
            "tags": []
          }
        }
      ]
    },
    {
      "cell_type": "markdown",
      "metadata": {
        "id": "UqcYe16aUDGc",
        "colab_type": "text"
      },
      "source": [
        "Distribution of the variable Course_Domain:\n",
        "\n",
        "When looking at the Course_Domain it is understood that there are 4 types of unique domain with different categorical values."
      ]
    },
    {
      "cell_type": "code",
      "metadata": {
        "id": "zVELyPY1UFsD",
        "colab_type": "code",
        "colab": {
          "base_uri": "https://localhost:8080/",
          "height": 412
        },
        "outputId": "752aaa39-b979-49d3-a580-46a6ed31c0a8"
      },
      "source": [
        "sns.countplot(train.Course_Domain)\n",
        "plt.xticks(rotation=90)"
      ],
      "execution_count": 80,
      "outputs": [
        {
          "output_type": "execute_result",
          "data": {
            "text/plain": [
              "(array([0, 1, 2, 3]), <a list of 4 Text major ticklabel objects>)"
            ]
          },
          "metadata": {
            "tags": []
          },
          "execution_count": 80
        },
        {
          "output_type": "display_data",
          "data": {
            "image/png": "[encoded data removed]",
            "text/plain": [
              "<Figure size 432x288 with 1 Axes>"
            ]
          },
          "metadata": {
            "tags": []
          }
        }
      ]
    },
    {
      "cell_type": "markdown",
      "metadata": {
        "id": "hDiCoqZKUUaB",
        "colab_type": "text"
      },
      "source": [
        "Here Learnx provides more courses on Development\n",
        "\n",
        "Distribution of the variable Course_Type:\n",
        "\n",
        "When looking at the Course_Type it is understood that there are 3 types of unique domain with different categorical values."
      ]
    },
    {
      "cell_type": "code",
      "metadata": {
        "id": "6Zqw6oUMUW9O",
        "colab_type": "code",
        "colab": {
          "base_uri": "https://localhost:8080/",
          "height": 338
        },
        "outputId": "84f428a6-96bf-4533-ed5f-bc8c838fcd69"
      },
      "source": [
        "sns.countplot(train.Course_Type)\n",
        "plt.xticks(rotation=90)"
      ],
      "execution_count": 81,
      "outputs": [
        {
          "output_type": "execute_result",
          "data": {
            "text/plain": [
              "(array([0, 1, 2]), <a list of 3 Text major ticklabel objects>)"
            ]
          },
          "metadata": {
            "tags": []
          },
          "execution_count": 81
        },
        {
          "output_type": "display_data",
          "data": {
            "image/png": "[encoded data removed]",
            "text/plain": [
              "<Figure size 432x288 with 1 Axes>"
            ]
          },
          "metadata": {
            "tags": []
          }
        }
      ]
    },
    {
      "cell_type": "markdown",
      "metadata": {
        "id": "TOKl8pEKUnVT",
        "colab_type": "text"
      },
      "source": [
        "LearnX has course_type more focused on course . then program least on Degree\n",
        "\n",
        "1.2)Bivariate Analysis: Analyzing more than one feature to form a relationship between the target variable and it’s predictors.Here we make use of 'Sales' which is combined with other variables. It was seen that 'Public_Holiday' had low correlation with the target variable so it is combined with 'Sales'. The plot obtained is seen below."
      ]
    },
    {
      "cell_type": "code",
      "metadata": {
        "id": "SkIHAEYQUpZb",
        "colab_type": "code",
        "colab": {
          "base_uri": "https://localhost:8080/",
          "height": 481
        },
        "outputId": "d0682a18-a8a1-4042-dd27-6622d266c638"
      },
      "source": [
        "plt.figure(figsize=(12,7))\n",
        "plt.xlabel('Public_Holiday')\n",
        "plt.ylabel('Sales')\n",
        "plt.title('Public_Holiday and Sales analysis')\n",
        "plt.plot(train.Public_Holiday,train.Sales,'.',alpha=0.3)"
      ],
      "execution_count": 82,
      "outputs": [
        {
          "output_type": "execute_result",
          "data": {
            "text/plain": [
              "[<matplotlib.lines.Line2D at 0x7fccf39aaf60>]"
            ]
          },
          "metadata": {
            "tags": []
          },
          "execution_count": 82
        },
        {
          "output_type": "display_data",
          "data": {
            "image/png": "[encoded data removed]",
            "text/plain": [
              "<Figure size 864x504 with 1 Axes>"
            ]
          },
          "metadata": {
            "tags": []
          }
        }
      ]
    },
    {
      "cell_type": "markdown",
      "metadata": {
        "id": "494tDzSVU1sA",
        "colab_type": "text"
      },
      "source": [
        "It was seen that 'Long_Promotion' had low correlation with the target variable so it is combined with 'Sales'. The plot obtained is seen below."
      ]
    },
    {
      "cell_type": "code",
      "metadata": {
        "id": "nb7ol6UIU3uP",
        "colab_type": "code",
        "colab": {
          "base_uri": "https://localhost:8080/",
          "height": 481
        },
        "outputId": "15a2460c-c6e1-43d0-a229-6eb76b921dca"
      },
      "source": [
        "plt.figure(figsize=(12,7))\n",
        "plt.xlabel('Long_Promotion')\n",
        "plt.ylabel('Sales')\n",
        "plt.title('Long_Promotion and Sales analysis')\n",
        "plt.plot(train.Long_Promotion,train.Sales,'.',alpha=0.3)"
      ],
      "execution_count": 83,
      "outputs": [
        {
          "output_type": "execute_result",
          "data": {
            "text/plain": [
              "[<matplotlib.lines.Line2D at 0x7fccf39ffcc0>]"
            ]
          },
          "metadata": {
            "tags": []
          },
          "execution_count": 83
        },
        {
          "output_type": "display_data",
          "data": {
            "image/png": "[encoded data removed]",
            "text/plain": [
              "<Figure size 864x504 with 1 Axes>"
            ]
          },
          "metadata": {
            "tags": []
          }
        }
      ]
    },
    {
      "cell_type": "markdown",
      "metadata": {
        "id": "ELfDREazVFUq",
        "colab_type": "text"
      },
      "source": [
        "No much impact  on Long_Promotion  either 0  or  1  on target Sales"
      ]
    },
    {
      "cell_type": "markdown",
      "metadata": {
        "id": "2DJfBTFSVV19",
        "colab_type": "text"
      },
      "source": [
        "It was seen that 'Competition_Metric' had low correlation with the target variable so it is combined with 'Sales'. The plot obtained is seen below."
      ]
    },
    {
      "cell_type": "code",
      "metadata": {
        "id": "3jHiCh8wVcMn",
        "colab_type": "code",
        "colab": {
          "base_uri": "https://localhost:8080/",
          "height": 481
        },
        "outputId": "1461f5bd-a0ed-4f80-ba53-055775053173"
      },
      "source": [
        "plt.figure(figsize=(12,7))\n",
        "plt.xlabel('Competition_Metric')\n",
        "plt.ylabel('Sales')\n",
        "plt.title('Competition_Metric and Sales analysis')\n",
        "plt.plot(train.Competition_Metric,train.Sales,'.',alpha=0.3)"
      ],
      "execution_count": 84,
      "outputs": [
        {
          "output_type": "execute_result",
          "data": {
            "text/plain": [
              "[<matplotlib.lines.Line2D at 0x7fccf38d1630>]"
            ]
          },
          "metadata": {
            "tags": []
          },
          "execution_count": 84
        },
        {
          "output_type": "display_data",
          "data": {
            "image/png": "[encoded data removed]",
            "text/plain": [
              "<Figure size 864x504 with 1 Axes>"
            ]
          },
          "metadata": {
            "tags": []
          }
        }
      ]
    },
    {
      "cell_type": "markdown",
      "metadata": {
        "id": "qjOWBleZVwXt",
        "colab_type": "text"
      },
      "source": [
        "From these graphs  'Public_Holiday' has  impact on  'Sales' and  certain level ' Competition_Metric'\n",
        "when Public_Holiday =0  sales are more"
      ]
    },
    {
      "cell_type": "markdown",
      "metadata": {
        "id": "ra0ZujzqV6FV",
        "colab_type": "text"
      },
      "source": [
        "Categorical Variables:\n",
        " Now,moving on to categorical variables such as Course_Domain. This contains 4 values.This is combined with Sales for plotting bar chart."
      ]
    },
    {
      "cell_type": "code",
      "metadata": {
        "id": "ZV-oPc6vV9Hq",
        "colab_type": "code",
        "colab": {
          "base_uri": "https://localhost:8080/",
          "height": 464
        },
        "outputId": "deda63de-737d-4833-9d76-f69199755b41"
      },
      "source": [
        "Course_Domain_pivot=\\\n",
        "train.pivot_table(index='Course_Domain',values='Sales',aggfunc=np.median)\n",
        "Course_Domain_pivot.plot(kind='bar',color='blue',figsize=(12,7))\n",
        "plt.xlabel('Course_Domain')\n",
        "plt.ylabel('Sales')\n",
        "plt.title('Impact of Course_Domain on Sales')\n",
        "plt.xticks(rotation=0)\n",
        "plt.show()"
      ],
      "execution_count": 85,
      "outputs": [
        {
          "output_type": "display_data",
          "data": {
            "image/png": "[encoded data removed]",
            "text/plain": [
              "<Figure size 864x504 with 1 Axes>"
            ]
          },
          "metadata": {
            "tags": []
          }
        }
      ]
    },
    {
      "cell_type": "markdown",
      "metadata": {
        "id": "AzjPaY37WP9R",
        "colab_type": "text"
      },
      "source": [
        "Course_Type and Sales:"
      ]
    },
    {
      "cell_type": "code",
      "metadata": {
        "id": "rTJ2-EsEWYAh",
        "colab_type": "code",
        "colab": {
          "base_uri": "https://localhost:8080/",
          "height": 464
        },
        "outputId": "93de6401-cbe8-4b6f-c1eb-ee4ac9b0b911"
      },
      "source": [
        "Course_Type_pivot=\\\n",
        "train.pivot_table(index='Course_Type',values='Sales',aggfunc=np.median)\n",
        "Course_Type_pivot.plot(kind='bar',color='blue',figsize=(12,7))\n",
        "plt.xlabel('Course_Type')\n",
        "plt.ylabel('Sales')\n",
        "plt.title('Impact of Course_Type on Sales')\n",
        "plt.xticks(rotation=0)\n",
        "plt.show()"
      ],
      "execution_count": 86,
      "outputs": [
        {
          "output_type": "display_data",
          "data": {
            "image/png": "[encoded data removed]",
            "text/plain": [
              "<Figure size 864x504 with 1 Axes>"
            ]
          },
          "metadata": {
            "tags": []
          }
        }
      ]
    },
    {
      "cell_type": "markdown",
      "metadata": {
        "id": "S9gAGk4pWfSD",
        "colab_type": "text"
      },
      "source": [
        "From above bar graphs Course_Domain=Business and Course_Type= Degree has more Sales impact. Rest Course_Domain and Course_Type has moderate impact\n",
        "\n",
        "make use of pivot_table function which is used to group through the data given above"
      ]
    },
    {
      "cell_type": "markdown",
      "metadata": {
        "id": "PgUSvoXzWq8o",
        "colab_type": "text"
      },
      "source": [
        "From Data Exploration or analysis there were some conclusions,now moving on to pre-processing of other attributes.\n",
        "\n",
        "it was split into train and test dataset. The above analysis was performed using train dataset. To work further, I have combined the test and train dataset into data"
      ]
    },
    {
      "cell_type": "code",
      "metadata": {
        "id": "C1MQ5mdpWyjB",
        "colab_type": "code",
        "colab": {
          "base_uri": "https://localhost:8080/",
          "height": 34
        },
        "outputId": "f38d347c-8619-481c-eea9-6f86537b2ef0"
      },
      "source": [
        "y=train.Sales\n",
        "train=train.drop(columns={'Sales'},axis=1)\n",
        "data=pd.concat([train,test],ignore_index=True)\n",
        "print(train.shape, test.shape,data.shape)"
      ],
      "execution_count": 87,
      "outputs": [
        {
          "output_type": "stream",
          "text": [
            "(512087, 10) (36000, 9) (548087, 10)\n"
          ],
          "name": "stdout"
        }
      ]
    },
    {
      "cell_type": "markdown",
      "metadata": {
        "id": "27krOdF0wRZm",
        "colab_type": "text"
      },
      "source": [
        "**Handling the  missing  values**"
      ]
    },
    {
      "cell_type": "code",
      "metadata": {
        "id": "US92JuxvW4_w",
        "colab_type": "code",
        "outputId": "8e98b5c2-7aa0-4c6f-a2bb-f166d85fa0f6",
        "colab": {
          "base_uri": "https://localhost:8080/",
          "height": 204
        }
      },
      "source": [
        "#Let's check if the data set has any missing values.\n",
        "\n",
        "#We check for NaN values which are displayed in percent format.\n",
        "\n",
        "data.isnull().sum()/data.shape[0]*100"
      ],
      "execution_count": 88,
      "outputs": [
        {
          "output_type": "execute_result",
          "data": {
            "text/plain": [
              "ID                    0.000000\n",
              "Day_No                0.000000\n",
              "Course_ID             0.000000\n",
              "Course_Domain         0.000000\n",
              "Course_Type           0.000000\n",
              "Short_Promotion       0.000000\n",
              "Public_Holiday        0.000000\n",
              "Long_Promotion        0.000000\n",
              "User_Traffic          6.568300\n",
              "Competition_Metric    0.343741\n",
              "dtype: float64"
            ]
          },
          "metadata": {
            "tags": []
          },
          "execution_count": 88
        }
      ]
    },
    {
      "cell_type": "markdown",
      "metadata": {
        "id": "lLUExb1IZT-E",
        "colab_type": "text"
      },
      "source": [
        "It is analyzed that User_Traffic and Competition_Metric had missing values or Null in Data Analysis.I have imputed the missing value based on neibhouring values using KNNImputer\n",
        "\n",
        "Observation  both missing  features  are  in numberic by nature."
      ]
    },
    {
      "cell_type": "code",
      "metadata": {
        "id": "VbTFAsLjyqTh",
        "colab_type": "code",
        "colab": {}
      },
      "source": [
        "# for User_Traffic \n",
        "from sklearn.impute import KNNImputer\n",
        "nan = np.nan\n",
        "User_Traf=data.User_Traffic\n",
        "imputer = KNNImputer(n_neighbors=2, weights=\"uniform\")\n",
        "UserT=imputer.fit_transform(User_Traf.values.reshape(-1, 1))"
      ],
      "execution_count": 0,
      "outputs": []
    },
    {
      "cell_type": "code",
      "metadata": {
        "id": "zH_19H5SBMWH",
        "colab_type": "code",
        "colab": {
          "base_uri": "https://localhost:8080/",
          "height": 136
        },
        "outputId": "a1f0101c-048c-4582-b203-25e6603a4343"
      },
      "source": [
        "UserT\n"
      ],
      "execution_count": 94,
      "outputs": [
        {
          "output_type": "execute_result",
          "data": {
            "text/plain": [
              "array([[11004.        ],\n",
              "       [13650.        ],\n",
              "       [11655.        ],\n",
              "       ...,\n",
              "       [15375.10119765],\n",
              "       [15375.10119765],\n",
              "       [15375.10119765]])"
            ]
          },
          "metadata": {
            "tags": []
          },
          "execution_count": 94
        }
      ]
    },
    {
      "cell_type": "code",
      "metadata": {
        "id": "Vp4Y7GRKK-cJ",
        "colab_type": "code",
        "colab": {}
      },
      "source": [
        "data.User_Traffic=UserT"
      ],
      "execution_count": 0,
      "outputs": []
    },
    {
      "cell_type": "code",
      "metadata": {
        "id": "06GMMONhLSP2",
        "colab_type": "code",
        "colab": {}
      },
      "source": [
        "# for Competition_Metric \n",
        "from sklearn.impute import KNNImputer\n",
        "nan = np.nan\n",
        "Com_Metric=data.User_Traffic\n",
        "imputer = KNNImputer(n_neighbors=2, weights=\"uniform\")\n",
        "ComM=imputer.fit_transform(Com_Metric.values.reshape(-1, 1))"
      ],
      "execution_count": 0,
      "outputs": []
    },
    {
      "cell_type": "code",
      "metadata": {
        "id": "_r2PJAD9MRTX",
        "colab_type": "code",
        "colab": {
          "base_uri": "https://localhost:8080/",
          "height": 136
        },
        "outputId": "17cf6862-1b83-4ed9-9c44-2c60195f716e"
      },
      "source": [
        "ComM"
      ],
      "execution_count": 99,
      "outputs": [
        {
          "output_type": "execute_result",
          "data": {
            "text/plain": [
              "array([[11004.        ],\n",
              "       [13650.        ],\n",
              "       [11655.        ],\n",
              "       ...,\n",
              "       [15375.10119765],\n",
              "       [15375.10119765],\n",
              "       [15375.10119765]])"
            ]
          },
          "metadata": {
            "tags": []
          },
          "execution_count": 99
        }
      ]
    },
    {
      "cell_type": "code",
      "metadata": {
        "id": "Ti_EARRmMWly",
        "colab_type": "code",
        "colab": {}
      },
      "source": [
        "data.Competition_Metric=ComM"
      ],
      "execution_count": 0,
      "outputs": []
    },
    {
      "cell_type": "code",
      "metadata": {
        "id": "4GhWm7DlMirJ",
        "colab_type": "code",
        "colab": {
          "base_uri": "https://localhost:8080/",
          "height": 204
        },
        "outputId": "7c868b0a-c7cd-4f90-a1ef-15a73cbf89f9"
      },
      "source": [
        "data.isnull().sum()"
      ],
      "execution_count": 101,
      "outputs": [
        {
          "output_type": "execute_result",
          "data": {
            "text/plain": [
              "ID                    0\n",
              "Day_No                0\n",
              "Course_ID             0\n",
              "Course_Domain         0\n",
              "Course_Type           0\n",
              "Short_Promotion       0\n",
              "Public_Holiday        0\n",
              "Long_Promotion        0\n",
              "User_Traffic          0\n",
              "Competition_Metric    0\n",
              "dtype: int64"
            ]
          },
          "metadata": {
            "tags": []
          },
          "execution_count": 101
        }
      ]
    },
    {
      "cell_type": "markdown",
      "metadata": {
        "id": "COgChqkrPdpG",
        "colab_type": "text"
      },
      "source": [
        "No more missing values are there in the dataset, so now we can proceed further."
      ]
    },
    {
      "cell_type": "code",
      "metadata": {
        "id": "Yb-jssL6PgN9",
        "colab_type": "code",
        "colab": {}
      },
      "source": [
        "# Finding the number of categorical columns and numerical columns in the data set\n",
        "\n",
        "cat_col = []\n",
        "num_col = []\n",
        "\n",
        "cat = data.select_dtypes(include=['object'])\n",
        "num = data.select_dtypes(exclude=['object'])\n",
        "\n",
        "for col in cat.columns:\n",
        "    cat_col.append(col)\n",
        "    \n",
        "for col in num.columns:\n",
        "    num_col.append(col)"
      ],
      "execution_count": 0,
      "outputs": []
    },
    {
      "cell_type": "code",
      "metadata": {
        "id": "cD5SLZFxXbM0",
        "colab_type": "code",
        "colab": {
          "base_uri": "https://localhost:8080/",
          "height": 51
        },
        "outputId": "95c3b3c0-caae-4f73-99b0-ed67fefa09a7"
      },
      "source": [
        "print('No. of categorical columns: ', len(cat_col))\n",
        "print('No. of numerical columns: ', len(num_col))"
      ],
      "execution_count": 109,
      "outputs": [
        {
          "output_type": "stream",
          "text": [
            "No. of categorical columns:  2\n",
            "No. of numerical columns:  8\n"
          ],
          "name": "stdout"
        }
      ]
    },
    {
      "cell_type": "code",
      "metadata": {
        "id": "dQ5pq8ZZaXNU",
        "colab_type": "code",
        "colab": {}
      },
      "source": [
        "data = data[num_col + cat_col]"
      ],
      "execution_count": 0,
      "outputs": []
    },
    {
      "cell_type": "code",
      "metadata": {
        "id": "8qCxOKDMazM0",
        "colab_type": "code",
        "colab": {
          "base_uri": "https://localhost:8080/",
          "height": 51
        },
        "outputId": "73723aed-d4ef-43ab-a223-66224410aa59"
      },
      "source": [
        "from sklearn.preprocessing import LabelEncoder\n",
        "\n",
        "def oneHotEncode(data,colNames):\n",
        "    for col in colNames:\n",
        "        if( data[col].dtype == np.dtype('object')):\n",
        "            dummies = pd.get_dummies(data[col],prefix=col)\n",
        "            data = pd.concat([data,dummies],axis=1)\n",
        "\n",
        "            #drop the encoded column\n",
        "            data.drop([col],axis = 1 , inplace=True)\n",
        "    return data\n",
        "\n",
        "    \n",
        "print('There were {} columns before encoding categorical features'.format(data.shape[1]))\n",
        "data = oneHotEncode(data, cat_col)\n",
        "print('There are {} columns after encoding categorical features'.format(data.shape[1]))"
      ],
      "execution_count": 111,
      "outputs": [
        {
          "output_type": "stream",
          "text": [
            "There were 10 columns before encoding categorical features\n",
            "There are 15 columns after encoding categorical features\n"
          ],
          "name": "stdout"
        }
      ]
    },
    {
      "cell_type": "code",
      "metadata": {
        "id": "xqwn-b-Aa6TB",
        "colab_type": "code",
        "outputId": "483e076a-8197-413b-d160-9ade2ab6672f",
        "colab": {
          "base_uri": "https://localhost:8080/",
          "height": 34
        }
      },
      "source": [
        ""
      ],
      "execution_count": 114,
      "outputs": [
        {
          "output_type": "execute_result",
          "data": {
            "text/plain": [
              "512087"
            ]
          },
          "metadata": {
            "tags": []
          },
          "execution_count": 114
        }
      ]
    },
    {
      "cell_type": "markdown",
      "metadata": {
        "id": "DuaFHtLgynMP",
        "colab_type": "text"
      },
      "source": [
        "Dividing data back into train and test"
      ]
    },
    {
      "cell_type": "code",
      "metadata": {
        "id": "UNLB7CKcVENw",
        "colab_type": "code",
        "colab": {
          "base_uri": "https://localhost:8080/",
          "height": 34
        },
        "outputId": "9f6b5774-2fd0-47ad-c627-4fab26a7ba64"
      },
      "source": [
        "train=data[:512087]\n",
        "test=data[512087:]\n",
        "print(train.shape, test.shape)"
      ],
      "execution_count": 116,
      "outputs": [
        {
          "output_type": "stream",
          "text": [
            "(512087, 15) (36000, 15)\n"
          ],
          "name": "stdout"
        }
      ]
    },
    {
      "cell_type": "code",
      "metadata": {
        "id": "mwXBf0qDV_sv",
        "colab_type": "code",
        "colab": {}
      },
      "source": [
        "#Take their values in X and y\n",
        "X = train.values\n",
        "y = y.values"
      ],
      "execution_count": 0,
      "outputs": []
    },
    {
      "cell_type": "code",
      "metadata": {
        "id": "goHV503kWr2W",
        "colab_type": "code",
        "colab": {}
      },
      "source": [
        "# Split data into train and test formate\n",
        "from sklearn.model_selection import train_test_split\n",
        "X_train, X_test, y_train, y_test = train_test_split(X, y, test_size=0.2, random_state=7)"
      ],
      "execution_count": 0,
      "outputs": []
    },
    {
      "cell_type": "markdown",
      "metadata": {
        "id": "-EKBEIlDW8W-",
        "colab_type": "text"
      },
      "source": [
        "Applying models"
      ]
    },
    {
      "cell_type": "markdown",
      "metadata": {
        "id": "lwRNK0nBXGBz",
        "colab_type": "text"
      },
      "source": [
        "Linear Regression"
      ]
    },
    {
      "cell_type": "code",
      "metadata": {
        "id": "abvJhLM8W-G5",
        "colab_type": "code",
        "colab": {}
      },
      "source": [
        "#Train the model\n",
        "from sklearn import linear_model\n",
        "model = linear_model.LinearRegression()"
      ],
      "execution_count": 0,
      "outputs": []
    },
    {
      "cell_type": "code",
      "metadata": {
        "id": "0z1R-H3abWA1",
        "colab_type": "code",
        "colab": {
          "base_uri": "https://localhost:8080/",
          "height": 34
        },
        "outputId": "7c285507-45b7-48fb-c423-7d932faba5a1"
      },
      "source": [
        "#Fit the model\n",
        "model.fit(X_train, y_train)"
      ],
      "execution_count": 120,
      "outputs": [
        {
          "output_type": "execute_result",
          "data": {
            "text/plain": [
              "LinearRegression(copy_X=True, fit_intercept=True, n_jobs=None, normalize=False)"
            ]
          },
          "metadata": {
            "tags": []
          },
          "execution_count": 120
        }
      ]
    },
    {
      "cell_type": "code",
      "metadata": {
        "id": "8K0Q1oRSbmM2",
        "colab_type": "code",
        "outputId": "ac012698-59eb-462d-ed72-3b031613a883",
        "colab": {
          "base_uri": "https://localhost:8080/",
          "height": 51
        }
      },
      "source": [
        "#Prediction\n",
        "# let us  comapare 142  test value\n",
        "print(\"Predict value \" + str(model.predict([X_test[142]])))\n",
        "print(\"Real value \" + str(y_test[142]))"
      ],
      "execution_count": 121,
      "outputs": [
        {
          "output_type": "stream",
          "text": [
            "Predict value [5.55721686]\n",
            "Real value 5.288267030694535\n"
          ],
          "name": "stdout"
        }
      ]
    },
    {
      "cell_type": "code",
      "metadata": {
        "id": "HghLPUUkb4zh",
        "colab_type": "code",
        "colab": {
          "base_uri": "https://localhost:8080/",
          "height": 437
        },
        "outputId": "9bdd19f6-35a4-40bc-d5d8-c29a09f229de"
      },
      "source": [
        "\n",
        "# ---- Evaluate the performance and visualize results\n",
        "# r-squared value is a measure of how close the data are to the fitted regression line\n",
        "# a higher r-squared value means a better fit(very close to value 1)\n",
        "print(\"R^2 is: \\n\", model.score(X_test, y_test))\n",
        "\n",
        "# use the model we have built to make predictions on the test data set.\n",
        "predictions1 = model.predict(X_test)\n",
        "\n",
        "print(\"24 \\n\")\n",
        "# calculates the rmse\n",
        "from sklearn.metrics import mean_squared_error\n",
        "print('RMSE is: \\n', mean_squared_error(y_test, predictions1))\n",
        "\n",
        "print(\"25 \\n\")\n",
        "# view this relationship between predictions and actual_values graphically with a scatter plot.\n",
        "actual_values1 = y_test\n",
        "plt.scatter(predictions1, actual_values1, alpha=.75,\n",
        "            color='b')  # alpha helps to show overlapping data\n",
        "plt.xlabel('Predicted Price')\n",
        "plt.ylabel('Actual Price')\n",
        "plt.title('Linear Regression Model')\n",
        "plt.show()"
      ],
      "execution_count": 123,
      "outputs": [
        {
          "output_type": "stream",
          "text": [
            "R^2 is: \n",
            " 0.7284467319191625\n",
            "24 \n",
            "\n",
            "RMSE is: \n",
            " 0.057517850076106984\n",
            "25 \n",
            "\n"
          ],
          "name": "stdout"
        },
        {
          "output_type": "display_data",
          "data": {
            "image/png": "[encoded data removed]",
            "text/plain": [
              "<Figure size 432x288 with 1 Axes>"
            ]
          },
          "metadata": {
            "tags": []
          }
        }
      ]
    },
    {
      "cell_type": "code",
      "metadata": {
        "id": "jCKPEl3aXoSO",
        "colab_type": "code",
        "colab": {}
      },
      "source": [
        ""
      ],
      "execution_count": 0,
      "outputs": []
    },
    {
      "cell_type": "code",
      "metadata": {
        "id": "5U_1v213b_B0",
        "colab_type": "code",
        "colab": {}
      },
      "source": [
        "#Coralation plot\n",
        "corr = train_corr.corr()\n",
        "plt.subplots(figsize=(20,9))\n",
        "sns.heatmap(corr, annot=True)\n",
        "\n",
        "\n"
      ],
      "execution_count": 0,
      "outputs": []
    },
    {
      "cell_type": "code",
      "metadata": {
        "id": "XnwNpkaxclX6",
        "colab_type": "code",
        "colab": {}
      },
      "source": [
        "#to return a list of the unique values\n",
        "top_feature = corr.index[abs(corr['SalePrice']>0.5)]\n",
        "plt.subplots(figsize=(12, 8))\n",
        "top_corr = train[top_feature].corr()\n",
        "sns.heatmap(top_corr, annot=True)\n",
        "plt.show()"
      ],
      "execution_count": 0,
      "outputs": []
    },
    {
      "cell_type": "code",
      "metadata": {
        "id": "FLqvP_knc4Sz",
        "colab_type": "code",
        "colab": {}
      },
      "source": [
        "#Here OverallQual is highly correlated with target feature of saleprice by 82%\n",
        "\n",
        "#unique value of OverallQual\n",
        "train.OverallQual.unique()"
      ],
      "execution_count": 0,
      "outputs": []
    },
    {
      "cell_type": "code",
      "metadata": {
        "id": "-NhPHK_Jdbc3",
        "colab_type": "code",
        "colab": {}
      },
      "source": [
        "sns.barplot(train.OverallQual, train.SalePrice)"
      ],
      "execution_count": 0,
      "outputs": []
    },
    {
      "cell_type": "code",
      "metadata": {
        "id": "Kl-JyMR_eRaX",
        "colab_type": "code",
        "colab": {}
      },
      "source": [
        "\n",
        "#boxplot\n",
        "plt.figure(figsize=(18, 8))\n",
        "sns.boxplot(x=train.OverallQual, y=train.SalePrice)\n"
      ],
      "execution_count": 0,
      "outputs": []
    },
    {
      "cell_type": "code",
      "metadata": {
        "id": "QKebRdApenDK",
        "colab_type": "code",
        "colab": {}
      },
      "source": [
        "col = ['OverallQual', 'GrLivArea', 'GarageCars', 'GarageArea', 'TotalBsmtSF', '1stFlrSF', 'FullBath', 'YearBuilt','YearRemodAdd', 'GarageYrBlt', 'TotRmsAbvGrd']\n",
        "sns.set(style='ticks')\n",
        "sns.pairplot(train[col], size=3, kind='reg')"
      ],
      "execution_count": 0,
      "outputs": []
    },
    {
      "cell_type": "code",
      "metadata": {
        "id": "OgPhKyyae9wn",
        "colab_type": "code",
        "colab": {}
      },
      "source": [
        "print(\"Find most important features relative to target\")\n",
        "corr = train.corr()\n",
        "corr.sort_values(['SalePrice'], ascending=False, inplace=True)\n",
        "corr.SalePrice"
      ],
      "execution_count": 0,
      "outputs": []
    },
    {
      "cell_type": "markdown",
      "metadata": {
        "id": "yMI1csCD2fsP",
        "colab_type": "text"
      },
      "source": [
        "**Imputting missing values**"
      ]
    },
    {
      "cell_type": "code",
      "metadata": {
        "id": "GZl-TZ-m20gs",
        "colab_type": "code",
        "colab": {}
      },
      "source": [
        "# PoolQC has missing value ratio is 99%+. So, there is fill by None\n",
        "train['PoolQC'] = train['PoolQC'].fillna('None')"
      ],
      "execution_count": 0,
      "outputs": []
    },
    {
      "cell_type": "code",
      "metadata": {
        "id": "fbZjVH2qgz-B",
        "colab_type": "code",
        "colab": {}
      },
      "source": [
        "#Arround 50% missing values attributes have been fill by None\n",
        "train['MiscFeature'] = train['MiscFeature'].fillna('None')\n",
        "train['Alley'] = train['Alley'].fillna('None')\n",
        "train['Fence'] = train['Fence'].fillna('None')\n",
        "train['FireplaceQu'] = train['FireplaceQu'].fillna('None')"
      ],
      "execution_count": 0,
      "outputs": []
    },
    {
      "cell_type": "code",
      "metadata": {
        "id": "vvwbyLKhj6i2",
        "colab_type": "code",
        "colab": {}
      },
      "source": [
        "#Group by neighborhood and fill in missing value by the median LotFrontage of all the neighborhood\n",
        "train['LotFrontage'] = train.groupby(\"Neighborhood\")[\"LotFrontage\"].transform(\n",
        "    lambda x: x.fillna(x.median()))"
      ],
      "execution_count": 0,
      "outputs": []
    },
    {
      "cell_type": "code",
      "metadata": {
        "id": "SfAN45C4hffj",
        "colab_type": "code",
        "colab": {}
      },
      "source": [
        "\n",
        "#GarageType, GarageFinish, GarageQual and GarageCond these are replacing with None\n",
        "for col in ['GarageType', 'GarageFinish', 'GarageQual', 'GarageCond']:\n",
        "    train[col] = train[col].fillna('None')"
      ],
      "execution_count": 0,
      "outputs": []
    },
    {
      "cell_type": "code",
      "metadata": {
        "id": "5BhD-3CW3aAS",
        "colab_type": "code",
        "colab": {}
      },
      "source": [
        "#GarageYrBlt, GarageArea and GarageCars these are replacing with zero\n",
        "for col in ['GarageYrBlt', 'GarageArea', 'GarageCars']:\n",
        "    train[col] = train[col].fillna(int(0))"
      ],
      "execution_count": 0,
      "outputs": []
    },
    {
      "cell_type": "code",
      "metadata": {
        "id": "2ZPuM-Fo3jwo",
        "colab_type": "code",
        "colab": {}
      },
      "source": [
        "#BsmtFinType2, BsmtExposure, BsmtFinType1, BsmtCond, BsmtQual these are replacing with None\n",
        "for col in ('BsmtFinType2', 'BsmtExposure', 'BsmtFinType1', 'BsmtCond', 'BsmtQual'):\n",
        "    train[col] = train[col].fillna('None')"
      ],
      "execution_count": 0,
      "outputs": []
    },
    {
      "cell_type": "code",
      "metadata": {
        "id": "1fhXecBE3pfX",
        "colab_type": "code",
        "colab": {}
      },
      "source": [
        "#MasVnrArea : replace with zero\n",
        "train['MasVnrArea'] = train['MasVnrArea'].fillna(int(0))"
      ],
      "execution_count": 0,
      "outputs": []
    },
    {
      "cell_type": "code",
      "metadata": {
        "id": "-FOJX7mr3xAq",
        "colab_type": "code",
        "colab": {}
      },
      "source": [
        "#MasVnrType : replace with None\n",
        "train['MasVnrType'] = train['MasVnrType'].fillna('None')"
      ],
      "execution_count": 0,
      "outputs": []
    },
    {
      "cell_type": "code",
      "metadata": {
        "id": "tyHmTMoQ37R1",
        "colab_type": "code",
        "colab": {}
      },
      "source": [
        "#There is put mode value \n",
        "train['Electrical'] = train['Electrical'].fillna(train['Electrical']).mode()[0]"
      ],
      "execution_count": 0,
      "outputs": []
    },
    {
      "cell_type": "code",
      "metadata": {
        "id": "Xt91siOJ4DRg",
        "colab_type": "code",
        "colab": {}
      },
      "source": [
        "\n",
        "#There is no need of Utilities\n",
        "train = train.drop(['Utilities'], axis=1)"
      ],
      "execution_count": 0,
      "outputs": []
    },
    {
      "cell_type": "code",
      "metadata": {
        "id": "NXkm0y-d4JKC",
        "colab_type": "code",
        "colab": {}
      },
      "source": [
        "#Checking there is any null value or not\n",
        "plt.figure(figsize=(10, 5))\n",
        "sns.heatmap(train.isnull())"
      ],
      "execution_count": 0,
      "outputs": []
    },
    {
      "cell_type": "markdown",
      "metadata": {
        "id": "iovW84YP4eiN",
        "colab_type": "text"
      },
      "source": [
        "Now, there is no more missing values"
      ]
    },
    {
      "cell_type": "markdown",
      "metadata": {
        "id": "H1nx4bVd40Lr",
        "colab_type": "text"
      },
      "source": [
        "**Encoding string  to intiger**"
      ]
    },
    {
      "cell_type": "code",
      "metadata": {
        "id": "lp8S0lrv4mdA",
        "colab_type": "code",
        "colab": {}
      },
      "source": [
        "cols = ('FireplaceQu', 'BsmtQual', 'BsmtCond', 'GarageQual', 'GarageCond', \n",
        "        'ExterQual', 'ExterCond','HeatingQC', 'PoolQC', 'KitchenQual', 'BsmtFinType1', \n",
        "        'BsmtFinType2', 'Functional', 'Fence', 'BsmtExposure', 'GarageFinish', 'LandSlope',\n",
        "        'LotShape', 'PavedDrive', 'Street', 'Alley', 'CentralAir', 'MSSubClass', 'OverallCond', \n",
        "        'YrSold', 'MoSold', 'MSZoning', 'LandContour', 'LotConfig', 'Neighborhood',\n",
        "        'Condition1', 'Condition2', 'BldgType', 'HouseStyle', 'RoofStyle', 'RoofMatl', 'Exterior1st',\n",
        "        'Exterior2nd', 'MasVnrType', 'MasVnrArea', 'Foundation', 'GarageType', 'MiscFeature', \n",
        "        'SaleType', 'SaleCondition', 'Electrical', 'Heating')"
      ],
      "execution_count": 0,
      "outputs": []
    },
    {
      "cell_type": "code",
      "metadata": {
        "id": "gqwQSMHQ5BQd",
        "colab_type": "code",
        "colab": {}
      },
      "source": [
        "from sklearn.preprocessing import LabelEncoder\n",
        "for c in cols:\n",
        "    lbl = LabelEncoder() \n",
        "    lbl.fit(list(train[c].values)) \n",
        "    train[c] = lbl.transform(list(train[c].values))"
      ],
      "execution_count": 0,
      "outputs": []
    },
    {
      "cell_type": "markdown",
      "metadata": {
        "id": "XyFxHX135Yhh",
        "colab_type": "text"
      },
      "source": [
        "**Data preparation  for prediction**"
      ]
    },
    {
      "cell_type": "code",
      "metadata": {
        "id": "SBFY1uYL5NfC",
        "colab_type": "code",
        "colab": {}
      },
      "source": [
        "#X = train[['OverallQual','GrLivArea', 'GarageCars','GarageArea','TotalBsmtSF','YrSold']]\n",
        "#X = train[['OverallQual', 'GrLivArea', 'GarageCars', 'TotalBsmtSF', 'FullBath', 'TotRmsAbvGrd', 'YearBuilt']]\n",
        "X =train[['OverallQual', 'GrLivArea', 'GarageCars', 'GarageArea', 'TotalBsmtSF', '1stFlrSF', 'FullBath', 'YearBuilt','YearRemodAdd', 'GarageYrBlt', 'TotRmsAbvGrd']]\n",
        "\n",
        "y = train['SalePrice']"
      ],
      "execution_count": 0,
      "outputs": []
    },
    {
      "cell_type": "code",
      "metadata": {
        "id": "gHIuqNP653Yd",
        "colab_type": "code",
        "colab": {}
      },
      "source": [
        "#======= partition the data ===================================================================================================#\n",
        "#   Partitioning the data in this way allows us to evaluate how our model might perform on data that it has never seen before.\n",
        "#   If we train the model on all of the test data, it will be difficult to tell if overfitting has taken place.\n",
        "#==============================================================================================================================#\n",
        "# also state how many percentage from train data set, we want to take as test data set\n",
        "# In this example, about 33% of the data is devoted to the hold-out set.\n",
        "X_train, X_test, y_train, y_test = train_test_split(X, y, random_state=42, test_size=.20)"
      ],
      "execution_count": 0,
      "outputs": []
    },
    {
      "cell_type": "markdown",
      "metadata": {
        "id": "eYkSAlSY60Dw",
        "colab_type": "text"
      },
      "source": [
        "**Applying  models**"
      ]
    },
    {
      "cell_type": "markdown",
      "metadata": {
        "id": "h2y_CLA667e9",
        "colab_type": "text"
      },
      "source": [
        "***Linear Regression***"
      ]
    },
    {
      "cell_type": "code",
      "metadata": {
        "id": "Owy5JzId6-r2",
        "colab_type": "code",
        "colab": {}
      },
      "source": [
        "from sklearn import linear_model\n",
        "lr = linear_model.LinearRegression()"
      ],
      "execution_count": 0,
      "outputs": []
    },
    {
      "cell_type": "code",
      "metadata": {
        "id": "jW9DLU_f7KET",
        "colab_type": "code",
        "colab": {}
      },
      "source": [
        "# ---- fit the model / Model fitting\n",
        "# lr.fit() method will fit the linear regression on the features and target variable that we pass.\n",
        "model = lr.fit(X_train, y_train)"
      ],
      "execution_count": 0,
      "outputs": []
    },
    {
      "cell_type": "code",
      "metadata": {
        "id": "GseCmMg9bhd9",
        "colab_type": "code",
        "colab": {}
      },
      "source": [
        "#  coeffients  of  selected  independent variables\n",
        "\n",
        "model.coef_"
      ],
      "execution_count": 0,
      "outputs": []
    },
    {
      "cell_type": "code",
      "metadata": {
        "id": "M2fm3AKTbihS",
        "colab_type": "code",
        "colab": {}
      },
      "source": [
        "model.intercept_"
      ],
      "execution_count": 0,
      "outputs": []
    },
    {
      "cell_type": "code",
      "metadata": {
        "id": "QU7EKPDm7SuT",
        "colab_type": "code",
        "colab": {}
      },
      "source": [
        "# ---- Evaluate the performance and visualize results\n",
        "# r-squared value is a measure of how close the data are to the fitted regression line\n",
        "# a higher r-squared value means a better fit(very close to value 1)\n",
        "print(\"R^2 is: \\n\", model.score(X_test, y_test))\n",
        "\n",
        "# use the model we have built to make predictions on the test data set.\n",
        "predictions = model.predict(X_test)\n",
        "\n",
        "print(\"24 \\n\")\n",
        "# calculates the rmse\n",
        "from sklearn.metrics import mean_squared_error\n",
        "print('RMSE is: \\n', mean_squared_error(y_test, predictions))\n",
        "\n",
        "print(\"25 \\n\")\n",
        "# view this relationship between predictions and actual_values graphically with a scatter plot.\n",
        "actual_values = y_test\n",
        "plt.scatter(predictions, actual_values, alpha=.75,\n",
        "            color='b')  # alpha helps to show overlapping data\n",
        "plt.xlabel('Predicted Price')\n",
        "plt.ylabel('Actual Price')\n",
        "plt.title('Linear Regression Model')\n",
        "plt.show()\n"
      ],
      "execution_count": 0,
      "outputs": []
    },
    {
      "cell_type": "code",
      "metadata": {
        "id": "7cUKUMqB7nh4",
        "colab_type": "code",
        "colab": {}
      },
      "source": [
        "#Score/Accuracy\n",
        "print(\"Accuracy --> \", model.score(X_test, y_test)*100)"
      ],
      "execution_count": 0,
      "outputs": []
    },
    {
      "cell_type": "markdown",
      "metadata": {
        "id": "d8eKdBom7vFc",
        "colab_type": "text"
      },
      "source": [
        "***RandomForestRegression***"
      ]
    },
    {
      "cell_type": "code",
      "metadata": {
        "id": "5ienA_rr74XA",
        "colab_type": "code",
        "colab": {}
      },
      "source": [
        "#Train the model\n",
        "from sklearn.ensemble import RandomForestRegressor\n",
        "model = RandomForestRegressor(n_estimators=1000)"
      ],
      "execution_count": 0,
      "outputs": []
    },
    {
      "cell_type": "code",
      "metadata": {
        "id": "hhLRvNti75Pn",
        "colab_type": "code",
        "colab": {}
      },
      "source": [
        "#Fit\n",
        "model.fit(X_train, y_train)"
      ],
      "execution_count": 0,
      "outputs": []
    },
    {
      "cell_type": "code",
      "metadata": {
        "id": "hD_-bxc075tk",
        "colab_type": "code",
        "colab": {}
      },
      "source": [
        "#Score/Accuracy\n",
        "print(\"Accuracy --> \", model.score(X_test, y_test)*100)"
      ],
      "execution_count": 0,
      "outputs": []
    },
    {
      "cell_type": "markdown",
      "metadata": {
        "id": "q7tyJKvv8S7x",
        "colab_type": "text"
      },
      "source": [
        "***GradientBoostingRegressor***"
      ]
    },
    {
      "cell_type": "code",
      "metadata": {
        "id": "IuiMMEqP8a5F",
        "colab_type": "code",
        "colab": {}
      },
      "source": [
        "#Train the model\n",
        "from sklearn.ensemble import GradientBoostingRegressor\n",
        "GBR = GradientBoostingRegressor(n_estimators=100, max_depth=4)"
      ],
      "execution_count": 0,
      "outputs": []
    },
    {
      "cell_type": "code",
      "metadata": {
        "id": "kr4opg0x8bTy",
        "colab_type": "code",
        "colab": {}
      },
      "source": [
        "#Fit\n",
        "GBR.fit(X_train, y_train)"
      ],
      "execution_count": 0,
      "outputs": []
    },
    {
      "cell_type": "code",
      "metadata": {
        "id": "ShIObItN8brh",
        "colab_type": "code",
        "colab": {}
      },
      "source": [
        "\n",
        "print(\"Accuracy --> \", GBR.score(X_test, y_test)*100)"
      ],
      "execution_count": 0,
      "outputs": []
    },
    {
      "cell_type": "markdown",
      "metadata": {
        "id": "s9sXmErivcHC",
        "colab_type": "text"
      },
      "source": [
        "***Ordinary Least Squares (OLS) regression*** "
      ]
    },
    {
      "cell_type": "code",
      "metadata": {
        "id": "hPw77F9BvZ3o",
        "colab_type": "code",
        "colab": {}
      },
      "source": [
        "import statsmodels.api as sm\n",
        "import seaborn as sns"
      ],
      "execution_count": 0,
      "outputs": []
    },
    {
      "cell_type": "code",
      "metadata": {
        "id": "ktMDQ-gQv171",
        "colab_type": "code",
        "colab": {}
      },
      "source": [
        "X1 = sm.add_constant(X)\n",
        "est = sm.OLS(y, X1).fit()\n",
        "\n",
        "est.summary()"
      ],
      "execution_count": 0,
      "outputs": []
    },
    {
      "cell_type": "markdown",
      "metadata": {
        "id": "MNfKT2VfxcDA",
        "colab_type": "text"
      },
      "source": [
        "For OSL R2  squared  is  82 %"
      ]
    }
  ]
}